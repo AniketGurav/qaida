{
 "cells": [
  {
   "cell_type": "code",
   "execution_count": 55,
   "metadata": {},
   "outputs": [],
   "source": [
    "import torch\n",
    "from torch.utils.data import DataLoader\n",
    "import numpy as np\n",
    "import matplotlib.pyplot as plt\n",
    "\n",
    "from models.QRN18 import QRN18\n",
    "from dataset import QaidaDataset\n",
    "from utils.framework import calculate_accuracy, test_loop\n",
    "from utils.transform import get_transform"
   ]
  },
  {
   "cell_type": "code",
   "execution_count": 101,
   "metadata": {},
   "outputs": [],
   "source": [
    "target_classes = 18569\n",
    "fc_neurons = []\n",
    "device = \"cuda\"\n",
    "batch_size = 128\n",
    "\n",
    "model = QRN18(pre_trained=False,\n",
    "              backbone=\"QRN18_18569\", \n",
    "              num_classes=target_classes, \n",
    "              model_config=\"../data/config/model.json\", \n",
    "              fc_neurons=[])\n",
    "\n",
    "saved_state = torch.load(\"../../../qaida/data/18569_scratch_best.bin\")\n",
    "\n",
    "## TODO: Remove hot fix\n",
    "    \n",
    "updated_saved_dict = {key: value for (key, value) in saved_state.items() if key not in \n",
    "                      [\"_model.fc.weight\", \"_model.fc.bias\"]}\n",
    "\n",
    "updated_saved_dict[\"_model.fc.fc.weight\"] = saved_state[\"_model.fc.weight\"]\n",
    "updated_saved_dict[\"_model.fc.fc.bias\"] = saved_state[\"_model.fc.bias\"]\n",
    "\n",
    "## End hot fix"
   ]
  },
  {
   "cell_type": "markdown",
   "metadata": {},
   "source": [
    "### Load and prepare model"
   ]
  },
  {
   "cell_type": "code",
   "execution_count": 102,
   "metadata": {},
   "outputs": [
    {
     "name": "stdout",
     "output_type": "stream",
     "text": [
      "Model loaded\n"
     ]
    }
   ],
   "source": [
    "model.load_state_dict(updated_saved_dict)\n",
    "model.eval()\n",
    "model.double()\n",
    "print(\"Model loaded\")"
   ]
  },
  {
   "cell_type": "markdown",
   "metadata": {},
   "source": [
    "### Create dataset and dataloader"
   ]
  },
  {
   "cell_type": "code",
   "execution_count": 105,
   "metadata": {},
   "outputs": [
    {
     "name": "stdout",
     "output_type": "stream",
     "text": [
      "Selecting max classes to : 18569\n"
     ]
    }
   ],
   "source": [
    "dataset = QaidaDataset(\"../../../../Datasets/Qaida/train/\", \n",
    "                        transform=get_transform(\"test\"), \n",
    "                        max_classes=target_classes)\n",
    "\n",
    "dataloader = DataLoader(dataset, \n",
    "                        batch_size=batch_size, \n",
    "                        shuffle=False, \n",
    "                        num_workers=4)"
   ]
  },
  {
   "cell_type": "markdown",
   "metadata": {},
   "source": [
    "### Test on a random image"
   ]
  },
  {
   "cell_type": "code",
   "execution_count": 135,
   "metadata": {},
   "outputs": [
    {
     "name": "stdout",
     "output_type": "stream",
     "text": [
      "Correct\n",
      "Prediction 5259\n",
      "Ground truth 5259\n"
     ]
    },
    {
     "data": {
      "image/png": "[encoded data removed]",
      "text/plain": [
       "<Figure size 432x288 with 1 Axes>"
      ]
     },
     "metadata": {
      "needs_background": "light"
     },
     "output_type": "display_data"
    }
   ],
   "source": [
    "idx = np.random.randint(len(dataset))\n",
    "im, lbl = dataset[idx]\n",
    "\n",
    "# get prediction\n",
    "pred = model(im[np.newaxis, : ])\n",
    "pred_class = np.argmax(pred.detach().numpy())\n",
    "\n",
    "# show image\n",
    "plt.imshow(np.transpose(im, [1,2,0]))\n",
    "plt.axis(\"off\")\n",
    "\n",
    "print(\"{}\\nPrediction {}\\nGround truth {}\".format(\"Correct\" if pred_class == lbl else \"Wrong\",\n",
    "                                                  pred_class, \n",
    "                                                  lbl))"
   ]
  },
  {
   "cell_type": "code",
   "execution_count": null,
   "metadata": {},
   "outputs": [],
   "source": []
  }
 ],
 "metadata": {
  "kernelspec": {
   "display_name": "Python 3",
   "language": "python",
   "name": "python3"
  },
  "language_info": {
   "codemirror_mode": {
    "name": "ipython",
    "version": 3
   },
   "file_extension": ".py",
   "mimetype": "text/x-python",
   "name": "python",
   "nbconvert_exporter": "python",
   "pygments_lexer": "ipython3",
   "version": "3.6.10"
  }
 },
 "nbformat": 4,
 "nbformat_minor": 4
}
