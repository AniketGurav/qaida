{
 "cells": [
  {
   "cell_type": "markdown",
   "metadata": {},
   "source": [
    "# Helper Notebook to load and use a pretrained model"
   ]
  },
  {
   "cell_type": "code",
   "execution_count": 1,
   "metadata": {},
   "outputs": [],
   "source": [
    "import codecs\n",
    "import torch\n",
    "from torch.utils.data import DataLoader\n",
    "import numpy as np\n",
    "import matplotlib.pyplot as plt\n",
    "from skimage import io\n",
    "\n",
    "from models.QRN18 import QRN18\n",
    "from dataset import QaidaDataset\n",
    "from utils.framework import calculate_accuracy, test_loop\n",
    "from utils.transform import get_transform"
   ]
  },
  {
   "cell_type": "markdown",
   "metadata": {},
   "source": [
    "### Plotting utils"
   ]
  },
  {
   "cell_type": "code",
   "execution_count": 2,
   "metadata": {},
   "outputs": [],
   "source": [
    "def plot_image_and_pred(im, lbl, pred, ligatures_map, num_values, print_ligature_map):\n",
    "    \"\"\"\n",
    "    Print ligature image and top k predictions (as a bar chart).\n",
    "    im: RGB image as 3d numpy array\n",
    "    lbl: int correct label\n",
    "    pred: Prediction scores for all classes\n",
    "    ligatures_map: imdex to ligature map are an array\n",
    "    num_values: number of top prediction values to be shown in the bar chart\n",
    "    print_ligature_map = boolean indicating weather to print the ligatures for top k predictions\n",
    "    \"\"\"\n",
    "    \n",
    "    max_idx = np.argsort(pred)[::-1]\n",
    "    max_values = pred[max_idx]\n",
    "    \n",
    "    fig= plt.figure(figsize=(10,5))\n",
    "    ax= fig.add_subplot(1,2,1)\n",
    "    ax.imshow(im)\n",
    "    ax.set_xticks([])\n",
    "    ax.set_yticks([])\n",
    "    ax.set_title(\"Sample image\")\n",
    "    \n",
    "    ax = fig.add_subplot(1,2,2)\n",
    "    bars = ax.bar(range(num_values), height=max_values[:num_values])\n",
    "    ax.set_xticks(range(num_values))\n",
    "    ax.set_xticklabels(max_idx[:num_values])\n",
    "    ax.set_xlabel(\"Class labels\")\n",
    "    ax.set_ylabel(\"Un-normalised prediction score\")\n",
    "    ax.set_title(\"Top {} class predictions \\n Correct in green\".format(num_values))\n",
    "    \n",
    "    correct_bar_idx = np.where(max_idx == lbl)[0][0]\n",
    "    if correct_bar_idx < num_values:\n",
    "        bars[correct_bar_idx].set_color('g')\n",
    "    \n",
    "    plt.show()\n",
    "        \n",
    "    if print_ligature_map:\n",
    "        print (\"Class to ligature map:\")\n",
    "        for idx in max_idx[:num_values]:\n",
    "            print(\"Class index {} -> ligature {}\".format(idx, ligatures_map[idx].strip()))\n",
    "\n",
    "\n",
    "def predict_and_plot_image(img, lbl, model, ligatures_map, shift=0, shift_axis=2, num_pred_values=5, \n",
    "                          print_ligature_map = False):\n",
    "    \n",
    "    im = img.roll(shift, dims = shift_axis) if shift else img\n",
    "    \n",
    "    # get prediction\n",
    "    pred = model(im[np.newaxis, : ])\n",
    "    pred = pred.detach().numpy()[0]\n",
    "    pred_class = np.argmax(pred)\n",
    "    \n",
    "    rgb_im = np.transpose(im, [1,2,0])\n",
    "\n",
    "    print(\"{}\\nPrediction {}\\nGround truth {}\".format(\"Correct\" if pred_class == lbl else \"Wrong\",\n",
    "                                                      pred_class, \n",
    "                                                      lbl))\n",
    "    \n",
    "    plot_image_and_pred(rgb_im, lbl, pred, ligatures_map, num_pred_values, print_ligature_map)"
   ]
  },
  {
   "cell_type": "markdown",
   "metadata": {},
   "source": [
    "### Create Model instange"
   ]
  },
  {
   "cell_type": "code",
   "execution_count": 3,
   "metadata": {},
   "outputs": [],
   "source": [
    "target_classes = 18569\n",
    "fc_neurons = []\n",
    "device = \"cuda\"\n",
    "batch_size = 128\n",
    "pre_trained_model_path = \"../data/qaida_v1.bin\""
   ]
  },
  {
   "cell_type": "code",
   "execution_count": 4,
   "metadata": {},
   "outputs": [],
   "source": [
    "model = QRN18(pre_trained=False,\n",
    "              backbone=\"QRN18_18569\", \n",
    "              num_classes=target_classes, \n",
    "              model_config=\"../data/config/model.json\", \n",
    "              fc_neurons=[])"
   ]
  },
  {
   "cell_type": "markdown",
   "metadata": {},
   "source": [
    "### Load weights and prepare model"
   ]
  },
  {
   "cell_type": "code",
   "execution_count": 5,
   "metadata": {},
   "outputs": [
    {
     "name": "stdout",
     "output_type": "stream",
     "text": [
      "Model loaded\n"
     ]
    }
   ],
   "source": [
    "model.load_state_dict(torch.load(pre_trained_model_path))\n",
    "model.eval()\n",
    "model.double()\n",
    "print(\"Model loaded\")"
   ]
  },
  {
   "cell_type": "markdown",
   "metadata": {},
   "source": [
    "### Load Ligature Map"
   ]
  },
  {
   "cell_type": "code",
   "execution_count": 6,
   "metadata": {},
   "outputs": [],
   "source": [
    "with codecs.open('../data/ligatures_map', encoding='UTF-16LE') as ligature_file:\n",
    "    ligatures_map = ligature_file.readlines()"
   ]
  },
  {
   "cell_type": "markdown",
   "metadata": {},
   "source": [
    "### Load example image"
   ]
  },
  {
   "cell_type": "code",
   "execution_count": 7,
   "metadata": {},
   "outputs": [
    {
     "name": "stdout",
     "output_type": "stream",
     "text": [
      "Selecting max classes to : 18569\n"
     ]
    }
   ],
   "source": [
    "train_dataset = QaidaDataset(\"../../../../Datasets/Qaida/train/\", transform=None, max_classes=18569)"
   ]
  },
  {
   "cell_type": "code",
   "execution_count": 8,
   "metadata": {},
   "outputs": [
    {
     "data": {
      "text/plain": [
       "<matplotlib.image.AxesImage at 0x7f96d83b8eb8>"
      ]
     },
     "execution_count": 8,
     "metadata": {},
     "output_type": "execute_result"
    },
    {
     "data": {
      "image/png": "[encoded data removed]",
      "text/plain": [
       "<Figure size 432x288 with 1 Axes>"
      ]
     },
     "metadata": {
      "needs_background": "light"
     },
     "output_type": "display_data"
    }
   ],
   "source": [
    "def rgb_to_tensor(rgb_img):\n",
    "    img = np.transpose(rgb_img, [2,0,1])\n",
    "    img = torch.from_numpy(img.astype(np.float64))\n",
    "    return img\n",
    "\n",
    "\n",
    "im = plt.imread(\"../data/example_imgs/17559.jpg\")\n",
    "im = im.astype(np.float64) / 255.\n",
    "img_tensor = rgb_to_tensor(im)\n",
    "lbl = 17559\n",
    "\n",
    "plt.imshow(im)"
   ]
  },
  {
   "cell_type": "markdown",
   "metadata": {},
   "source": [
    "### Get prediction\n"
   ]
  },
  {
   "cell_type": "code",
   "execution_count": 9,
   "metadata": {},
   "outputs": [
    {
     "name": "stdout",
     "output_type": "stream",
     "text": [
      "Predicted class: 17559, ligature: حکمتیں\n",
      "\n"
     ]
    }
   ],
   "source": [
    "pred = model(img_tensor[np.newaxis, : ])\n",
    "\n",
    "# convert predictions from pytorch tensor to numpy array\n",
    "pred = pred.detach().numpy()[0]\n",
    "\n",
    "# get class with max score\n",
    "pred_class = np.argmax(pred)\n",
    "\n",
    "# get ligature values of predicted class from ligature_map\n",
    "ligature = ligatures_map[pred_class]\n",
    "\n",
    "print(\"Predicted class: {}, ligature: {}\".format(pred_class, ligature))"
   ]
  },
  {
   "cell_type": "markdown",
   "metadata": {},
   "source": [
    "# Visualization of top k classes"
   ]
  },
  {
   "cell_type": "code",
   "execution_count": 11,
   "metadata": {},
   "outputs": [
    {
     "name": "stdout",
     "output_type": "stream",
     "text": [
      "Correct\n",
      "Prediction 17559\n",
      "Ground truth 17559\n"
     ]
    },
    {
     "data": {
      "image/png": "[encoded data removed]",
      "text/plain": [
       "<Figure size 720x360 with 2 Axes>"
      ]
     },
     "metadata": {
      "needs_background": "light"
     },
     "output_type": "display_data"
    },
    {
     "name": "stdout",
     "output_type": "stream",
     "text": [
      "Class to ligature map:\n",
      "Class index 17559 -> ligature حکمتیں\n",
      "Class index 17413 -> ligature چمکتیں\n",
      "Class index 13797 -> ligature حمتیں\n",
      "Class index 14828 -> ligature حکمتی\n",
      "Class index 17518 -> ligature جھکتیں\n"
     ]
    }
   ],
   "source": [
    "predict_and_plot_image(img_tensor, lbl, model, ligatures_map, shift=0, shift_axis=2, num_pred_values=5, print_ligature_map=True)"
   ]
  },
  {
   "cell_type": "markdown",
   "metadata": {},
   "source": [
    "# Inspect the predictions with Ipython Wigit"
   ]
  },
  {
   "cell_type": "code",
   "execution_count": 12,
   "metadata": {},
   "outputs": [
    {
     "data": {
      "application/vnd.jupyter.widget-view+json": {
       "model_id": "2b3f3e1b7d0d45aaa85b66a6d10cb3ce",
       "version_major": 2,
       "version_minor": 0
      },
      "text/plain": [
       "interactive(children=(IntSlider(value=0, description='shift', max=25, min=-25), Dropdown(description='shift_ax…"
      ]
     },
     "metadata": {},
     "output_type": "display_data"
    }
   ],
   "source": [
    "from ipywidgets import interactive\n",
    "from ipywidgets import fixed\n",
    "\n",
    "interactive_plot = interactive(predict_and_plot_image, \n",
    "                               shift=(-25, 25),\n",
    "                               shift_axis = [('y-axis', 1), ('x-axis', 2)],\n",
    "                               num_pred_values = (5, 20),\n",
    "                               img = fixed(img_tensor),\n",
    "                               lbl= fixed(lbl),\n",
    "                               ligatures_map = fixed(ligatures_map),\n",
    "                               model = fixed(model))\n",
    "\n",
    "output = interactive_plot.children[-1]\n",
    "output.layout.height = '600px'\n",
    "interactive_plot"
   ]
  },
  {
   "cell_type": "code",
   "execution_count": null,
   "metadata": {},
   "outputs": [],
   "source": []
  },
  {
   "cell_type": "code",
   "execution_count": null,
   "metadata": {},
   "outputs": [],
   "source": []
  }
 ],
 "metadata": {
  "kernelspec": {
   "display_name": "Python 3",
   "language": "python",
   "name": "python3"
  },
  "language_info": {
   "codemirror_mode": {
    "name": "ipython",
    "version": 3
   },
   "file_extension": ".py",
   "mimetype": "text/x-python",
   "name": "python",
   "nbconvert_exporter": "python",
   "pygments_lexer": "ipython3",
   "version": "3.6.10"
  }
 },
 "nbformat": 4,
 "nbformat_minor": 4
}
